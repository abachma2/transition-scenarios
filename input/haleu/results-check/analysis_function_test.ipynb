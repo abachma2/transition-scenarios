{
 "cells": [
  {
   "cell_type": "markdown",
   "metadata": {},
   "source": [
    "# Analysis about fuel cycle scenarios for HALEU fueled reactors\n",
    "\n",
    "The purpose of this notebook is to compare the results of using the updated \n",
    "function transition_metrics.add_receiver_prototype, which avoids the creation \n",
    "and use of the Materials metric to create the TransactionQuantity metric. This analysis \n",
    "of this notebook compares the results of analysis of a fuel cycle to what is \n",
    "reported in [this published article](https://www.epj-n.org/articles/epjn/full_html/2021/01/epjn210024/epjn210024.html).\n",
    "\n",
    "1 total fuel cycle scenario is considered for this work:\n",
    "* Scenario 1: Current US fuel cycle\n",
    "\n",
    "\n",
    "Results include the mass of enriched uranium, and the total SWU capacity \n",
    "required in each scenario. "
   ]
  },
  {
   "cell_type": "code",
   "execution_count": 1,
   "metadata": {},
   "outputs": [],
   "source": [
    "import numpy as np\n",
    "import pandas as pd\n",
    "import matplotlib.pyplot as plt\n",
    "import sys\n",
    "sys.path.insert(0,'../../../scripts/')"
   ]
  },
  {
   "cell_type": "code",
   "execution_count": 2,
   "metadata": {},
   "outputs": [],
   "source": [
    "import cymetric as cym\n",
    "import transition_metrics as tm"
   ]
  },
  {
   "cell_type": "code",
   "execution_count": 3,
   "metadata": {},
   "outputs": [],
   "source": [
    "current_outfile = 'united_states_2020.sqlite'"
   ]
  },
  {
   "cell_type": "markdown",
   "metadata": {},
   "source": [
    "## Material Transactions"
   ]
  },
  {
   "cell_type": "code",
   "execution_count": 4,
   "metadata": {},
   "outputs": [],
   "source": [
    "# All transactions\n",
    "current_transactions = tm.add_receiver_prototype(current_outfile)"
   ]
  },
  {
   "cell_type": "code",
   "execution_count": 5,
   "metadata": {},
   "outputs": [],
   "source": [
    "# Obtaining just the fresh_uox transactions for each scenario\n",
    "current_uox = tm.commodity_mass_traded(current_transactions, 'fresh_uox')"
   ]
  },
  {
   "cell_type": "markdown",
   "metadata": {},
   "source": [
    "### Plotting material transactions"
   ]
  },
  {
   "cell_type": "code",
   "execution_count": 6,
   "metadata": {
    "scrolled": true
   },
   "outputs": [
    {
     "data": {
      "text/plain": [
       "Text(0.5, 1.0, 'Mass of uranium supplied to all reactors')"
      ]
     },
     "execution_count": 6,
     "metadata": {},
     "output_type": "execute_result"
    },
    {
     "data": {
      "image/png": "[encoded data removed]",
      "text/plain": [
       "<Figure size 432x288 with 1 Axes>"
      ]
     },
     "metadata": {
      "needs_background": "light"
     },
     "output_type": "display_data"
    }
   ],
   "source": [
    "# Comparing fresh_uox transactions to all reactors\n",
    "plt.figure()\n",
    "\n",
    "plt.plot(current_uox['Year'], current_uox['Quantity']/1000, \n",
    "         label='Scenario 1')\n",
    "plt.legend(loc=2)\n",
    "plt.ylabel('Mass (t)', fontsize=16)\n",
    "plt.xlabel('Year', fontsize=16)\n",
    "plt.xticks(fontsize=14)\n",
    "plt.yticks(fontsize=14)\n",
    "plt.title('Mass of uranium supplied to all reactors', fontsize=20)"
   ]
  },
  {
   "cell_type": "code",
   "execution_count": 13,
   "metadata": {},
   "outputs": [
    {
     "name": "stdout",
     "output_type": "stream",
     "text": [
      "average =  96.0179391424616\n",
      "maximum =  513.7178423236442\n",
      "average prior to 2025 =  157.60225251926428\n",
      "total after 2025 =  30395.68464730291\n"
     ]
    }
   ],
   "source": [
    "print('average = ', current_uox['Quantity'].mean()/1000)\n",
    "print('maximum = ', current_uox['Quantity'].max()/1000)\n",
    "print('average prior to 2025 = ', current_uox['Quantity'][0:721].mean()/1000)\n",
    "print('total after 2025 = ', current_uox['Quantity'][721:].cumsum()[1499]/1000)"
   ]
  },
  {
   "cell_type": "markdown",
   "metadata": {},
   "source": [
    "Reported values in article:\n",
    "* 96.2 MTU/month average\n",
    "* 513.7 MTU max\n",
    "* 157.6 MTU/month average prior to 2025\n",
    "* 30,635.0 MTU total after 2025"
   ]
  },
  {
   "cell_type": "code",
   "execution_count": 23,
   "metadata": {},
   "outputs": [
    {
     "data": {
      "text/html": [
       "<div>\n",
       "<style scoped>\n",
       "    .dataframe tbody tr th:only-of-type {\n",
       "        vertical-align: middle;\n",
       "    }\n",
       "\n",
       "    .dataframe tbody tr th {\n",
       "        vertical-align: top;\n",
       "    }\n",
       "\n",
       "    .dataframe thead th {\n",
       "        text-align: right;\n",
       "    }\n",
       "</style>\n",
       "<table border=\"1\" class=\"dataframe\">\n",
       "  <thead>\n",
       "    <tr style=\"text-align: right;\">\n",
       "      <th></th>\n",
       "      <th>Year</th>\n",
       "      <th>Energy</th>\n",
       "    </tr>\n",
       "  </thead>\n",
       "  <tbody>\n",
       "    <tr>\n",
       "      <th>55</th>\n",
       "      <td>2022</td>\n",
       "      <td>90.417083</td>\n",
       "    </tr>\n",
       "    <tr>\n",
       "      <th>56</th>\n",
       "      <td>2023</td>\n",
       "      <td>90.846333</td>\n",
       "    </tr>\n",
       "    <tr>\n",
       "      <th>57</th>\n",
       "      <td>2024</td>\n",
       "      <td>90.137500</td>\n",
       "    </tr>\n",
       "    <tr>\n",
       "      <th>58</th>\n",
       "      <td>2025</td>\n",
       "      <td>90.874000</td>\n",
       "    </tr>\n",
       "    <tr>\n",
       "      <th>59</th>\n",
       "      <td>2026</td>\n",
       "      <td>90.545083</td>\n",
       "    </tr>\n",
       "  </tbody>\n",
       "</table>\n",
       "</div>"
      ],
      "text/plain": [
       "    Year     Energy\n",
       "55  2022  90.417083\n",
       "56  2023  90.846333\n",
       "57  2024  90.137500\n",
       "58  2025  90.874000\n",
       "59  2026  90.545083"
      ]
     },
     "execution_count": 23,
     "metadata": {},
     "output_type": "execute_result"
    }
   ],
   "source": [
    "current_energy = tm.get_annual_electricity(current_outfile)\n",
    "current_energy[55:60]"
   ]
  },
  {
   "cell_type": "markdown",
   "metadata": {},
   "source": [
    "Reported energy produced: 91.82 GWe-yr\n",
    "\n",
    "There is some discrepancy present in these results, stemming from the mass of\n",
    "uranium after 2025 (based on the averages prior to 2025 matching). Part of the \n",
    "discrepancy comes from a difference in the amount of energy produced (91.82GWe-yr \n",
    "in 2025 per the article, and 90.87 GWe-yr in 2025 per this dataset). \n",
    "\n",
    "From this, I feel like there is a difference in the number of LWRs that are deployed\n",
    "that is causing the difference in the results"
   ]
  },
  {
   "cell_type": "code",
   "execution_count": 39,
   "metadata": {},
   "outputs": [
    {
     "data": {
      "text/html": [
       "<div>\n",
       "<style scoped>\n",
       "    .dataframe tbody tr th:only-of-type {\n",
       "        vertical-align: middle;\n",
       "    }\n",
       "\n",
       "    .dataframe tbody tr th {\n",
       "        vertical-align: top;\n",
       "    }\n",
       "\n",
       "    .dataframe thead th {\n",
       "        text-align: right;\n",
       "    }\n",
       "</style>\n",
       "<table border=\"1\" class=\"dataframe\">\n",
       "  <thead>\n",
       "    <tr style=\"text-align: right;\">\n",
       "      <th>Prototype</th>\n",
       "      <th>Year</th>\n",
       "      <th>lwr_total</th>\n",
       "    </tr>\n",
       "  </thead>\n",
       "  <tbody>\n",
       "    <tr>\n",
       "      <th>721</th>\n",
       "      <td>2025.08</td>\n",
       "      <td>93.0</td>\n",
       "    </tr>\n",
       "    <tr>\n",
       "      <th>722</th>\n",
       "      <td>2025.17</td>\n",
       "      <td>93.0</td>\n",
       "    </tr>\n",
       "    <tr>\n",
       "      <th>723</th>\n",
       "      <td>2025.25</td>\n",
       "      <td>93.0</td>\n",
       "    </tr>\n",
       "    <tr>\n",
       "      <th>724</th>\n",
       "      <td>2025.33</td>\n",
       "      <td>93.0</td>\n",
       "    </tr>\n",
       "    <tr>\n",
       "      <th>725</th>\n",
       "      <td>2025.42</td>\n",
       "      <td>93.0</td>\n",
       "    </tr>\n",
       "    <tr>\n",
       "      <th>...</th>\n",
       "      <td>...</td>\n",
       "      <td>...</td>\n",
       "    </tr>\n",
       "    <tr>\n",
       "      <th>1495</th>\n",
       "      <td>2089.58</td>\n",
       "      <td>0.0</td>\n",
       "    </tr>\n",
       "    <tr>\n",
       "      <th>1496</th>\n",
       "      <td>2089.67</td>\n",
       "      <td>0.0</td>\n",
       "    </tr>\n",
       "    <tr>\n",
       "      <th>1497</th>\n",
       "      <td>2089.75</td>\n",
       "      <td>0.0</td>\n",
       "    </tr>\n",
       "    <tr>\n",
       "      <th>1498</th>\n",
       "      <td>2089.83</td>\n",
       "      <td>0.0</td>\n",
       "    </tr>\n",
       "    <tr>\n",
       "      <th>1499</th>\n",
       "      <td>2089.92</td>\n",
       "      <td>0.0</td>\n",
       "    </tr>\n",
       "  </tbody>\n",
       "</table>\n",
       "<p>779 rows × 2 columns</p>\n",
       "</div>"
      ],
      "text/plain": [
       "Prototype     Year  lwr_total\n",
       "721        2025.08       93.0\n",
       "722        2025.17       93.0\n",
       "723        2025.25       93.0\n",
       "724        2025.33       93.0\n",
       "725        2025.42       93.0\n",
       "...            ...        ...\n",
       "1495       2089.58        0.0\n",
       "1496       2089.67        0.0\n",
       "1497       2089.75        0.0\n",
       "1498       2089.83        0.0\n",
       "1499       2089.92        0.0\n",
       "\n",
       "[779 rows x 2 columns]"
      ]
     },
     "execution_count": 39,
     "metadata": {},
     "output_type": "execute_result"
    }
   ],
   "source": [
    "current_nonlwr = ['Sink_HLW', 'Sink_LLW', 'Mine', 'Mill', 'Conversion',\n",
    "                 'Enrichment', 'FuelFab', 'DryStorage', 'United States',\n",
    "                 'WetStorage', 'FuelCycle', 'UNITED_STATES_OF_AMERICA']\n",
    "current_lwrs = tm.get_lwr_totals(current_outfile, current_nonlwr)\n",
    "current_lwrs = tm.add_year(current_lwrs)\n",
    "current_lwrs[['Year','lwr_total']][721:]"
   ]
  },
  {
   "cell_type": "markdown",
   "metadata": {},
   "source": [
    "There are 93 LWRs deployed in January 2025 for this output file, but there is \n",
    "no published value to compare this against. "
   ]
  },
  {
   "cell_type": "markdown",
   "metadata": {},
   "source": [
    "## SWU Calculations\n",
    "SWU = (P*V(x_p) + T*V(x_t) - F*V(x_f))*t\n",
    "\n",
    "V(x_i) = (2*x_i-1)*ln(x_i/(1-x_i))"
   ]
  },
  {
   "cell_type": "code",
   "execution_count": 9,
   "metadata": {},
   "outputs": [],
   "source": [
    "#Defining assays for LEU product, tails, and feed material\n",
    "leu_p = 0.045\n",
    "mmr_p = 0.13\n",
    "xe_p = 0.155\n",
    "x_f = 0.00711\n",
    "x_t = 0.002"
   ]
  },
  {
   "cell_type": "markdown",
   "metadata": {},
   "source": [
    "### Total SWU"
   ]
  },
  {
   "cell_type": "code",
   "execution_count": 10,
   "metadata": {},
   "outputs": [],
   "source": [
    "# Scenario 1\n",
    "current_tails = tm.calculate_tails(current_uox['Quantity'], leu_p, x_t, x_f)\n",
    "current_feed = tm.calculate_feed(current_uox['Quantity'], current_tails)\n",
    "current_swu = tm.calculate_SWU(current_uox['Quantity'], leu_p, \n",
    "                               current_tails, x_t, \n",
    "                               current_feed, x_f)\n",
    "current_swu = current_swu.to_frame().reset_index()\n",
    "current_swu = current_swu.rename(columns={'Quantity':'SWU', 'index':'Time'})\n",
    "current_swu = tm.add_year(current_swu)"
   ]
  },
  {
   "cell_type": "code",
   "execution_count": 11,
   "metadata": {
    "scrolled": true
   },
   "outputs": [
    {
     "data": {
      "text/plain": [
       "<matplotlib.legend.Legend at 0x7ff593bb62e8>"
      ]
     },
     "execution_count": 11,
     "metadata": {},
     "output_type": "execute_result"
    },
    {
     "data": {
      "image/png": "[encoded data removed]",
      "text/plain": [
       "<Figure size 504x288 with 1 Axes>"
      ]
     },
     "metadata": {
      "needs_background": "light"
     },
     "output_type": "display_data"
    }
   ],
   "source": [
    "plt.figure(figsize=(7,4))\n",
    "plt.plot(current_swu['Year'], current_swu['SWU'], label='Scenario 1')\n",
    "\n",
    "plt.xlabel('Year', fontsize=16)\n",
    "plt.ylabel('SWU Capacity (kg-SWU)', fontsize=16)\n",
    "plt.xticks(fontsize=14)\n",
    "plt.yticks(fontsize=14)\n",
    "title = plt.title('SWU Capacity to enrich uranium for all reactors', fontsize=20, pad=20)\n",
    "plt.legend()"
   ]
  },
  {
   "cell_type": "code",
   "execution_count": 12,
   "metadata": {},
   "outputs": [
    {
     "name": "stdout",
     "output_type": "stream",
     "text": [
      "average =  738424.1657129074\n",
      "maximum =  3950737.4613283835\n",
      "average prior to 2025 =  1212037.1762858185\n",
      "average after 2025 =  300073.74129305035\n",
      "total =  1107636248.5693555\n",
      "total after 2025 =  233757444.46728557\n"
     ]
    }
   ],
   "source": [
    "print('average = ', current_swu['SWU'].mean())\n",
    "print('maximum = ', current_swu['SWU'].max())\n",
    "print('average prior to 2025 = ', current_swu['SWU'][:721].mean())\n",
    "print('average after 2025 = ', current_swu['SWU'][721:].mean())\n",
    "print('total = ', current_swu['SWU'].cumsum()[1499])\n",
    "print('total after 2025 = ', current_swu['SWU'][721:].cumsum()[1499])"
   ]
  },
  {
   "cell_type": "markdown",
   "metadata": {},
   "source": [
    "Reported values in article:\n",
    "* average = 0.74e6 kg-SWU/month\n",
    "* maximum = 3.95e6 kg-SWU\n",
    "* average prior to 2025 = 1.21e6 kg-SWU/month\n",
    "* average after 2025 = 0.302e6 kg-SWU/month\n",
    "* total = 11.1e8 kg-SWU\n",
    "* total after 2025 = 2.36e8 kg-SWU"
   ]
  },
  {
   "cell_type": "markdown",
   "metadata": {},
   "source": [
    "A similar pattern is observed. The average SWu capacity before 2025 is the same, but they differ \n",
    "after 2025. This difference is not surprising, as the SWU capacity is calculated based on \n",
    "the mass of uranium so any errors propogate forward through this calculation. "
   ]
  },
  {
   "cell_type": "code",
   "execution_count": null,
   "metadata": {},
   "outputs": [],
   "source": []
  }
 ],
 "metadata": {
  "kernelspec": {
   "display_name": "Python 3",
   "language": "python",
   "name": "python3"
  },
  "language_info": {
   "codemirror_mode": {
    "name": "ipython",
    "version": 3
   },
   "file_extension": ".py",
   "mimetype": "text/x-python",
   "name": "python",
   "nbconvert_exporter": "python",
   "pygments_lexer": "ipython3",
   "version": "3.6.11"
  }
 },
 "nbformat": 4,
 "nbformat_minor": 4
}
